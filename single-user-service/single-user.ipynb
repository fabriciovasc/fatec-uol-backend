{
 "cells": [
  {
   "cell_type": "code",
   "execution_count": 16,
   "metadata": {},
   "outputs": [],
   "source": [
    "import pymysql\n",
    "import pandas as pd\n",
    "from pyspark.sql import SparkSession"
   ]
  },
  {
   "cell_type": "code",
   "execution_count": 17,
   "metadata": {},
   "outputs": [],
   "source": [
    "def mysql_connect():\n",
    "    return pymysql.connect(host='localhost', port=3306, user='user', password='pass123', db='uol')\n",
    "sql = 'SELECT * FROM registration'"
   ]
  },
  {
   "cell_type": "code",
   "execution_count": 18,
   "metadata": {},
   "outputs": [],
   "source": [
    "# Get pdf from pandas\n",
    "pdf = pd.read_sql(sql, con=mysql_connect())"
   ]
  },
  {
   "cell_type": "code",
   "execution_count": 19,
   "metadata": {},
   "outputs": [
    {
     "name": "stdout",
     "output_type": "stream",
     "text": [
      "+---------------+------------------+---------------------+-----------------+----------------------+-----------------------+-------------------------+----------------------------+-------------------+----------------------+---------------+\n",
      "|registration_id|registration_email|registration_password|registration_name|registration_cellphone|registration_user_agent|registration_name_browser|registration_version_browser|registration_system|registration_gpu_model|registration_ip|\n",
      "+---------------+------------------+---------------------+-----------------+----------------------+-----------------------+-------------------------+----------------------------+-------------------+----------------------+---------------+\n",
      "|              1|  teste5@teste.com|                teste|            teste|           12999999999|            user_agent2|              nameBrowser|              versionBrowser|             system|              gpuModel|             ip|\n",
      "+---------------+------------------+---------------------+-----------------+----------------------+-----------------------+-------------------------+----------------------------+-------------------+----------------------+---------------+\n",
      "\n"
     ]
    }
   ],
   "source": [
    "# Create data frame from pdf with spark\n",
    "spark = SparkSession.builder.appName('singleUserService').getOrCreate()\n",
    "df = spark.createDataFrame(pdf)\n",
    "df.show()"
   ]
  }
 ],
 "metadata": {
  "interpreter": {
   "hash": "8b8334dab9339717f727a1deaf837b322d7a41c20d15cc86be99a8e69ceec8ce"
  },
  "kernelspec": {
   "display_name": "Python 3.8.12 64-bit ('3.8.12': pyenv)",
   "name": "python3"
  },
  "language_info": {
   "codemirror_mode": {
    "name": "ipython",
    "version": 3
   },
   "file_extension": ".py",
   "mimetype": "text/x-python",
   "name": "python",
   "nbconvert_exporter": "python",
   "pygments_lexer": "ipython3",
   "version": "3.8.12"
  },
  "orig_nbformat": 4
 },
 "nbformat": 4,
 "nbformat_minor": 2
}
