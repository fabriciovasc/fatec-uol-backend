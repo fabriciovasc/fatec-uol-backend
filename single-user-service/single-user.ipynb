{
 "cells": [
  {
   "cell_type": "code",
   "execution_count": 22,
   "metadata": {},
   "outputs": [],
   "source": [
    "import pymysql\n",
    "import pandas as pd\n",
    "import pyspark"
   ]
  },
  {
   "cell_type": "code",
   "execution_count": 23,
   "metadata": {},
   "outputs": [],
   "source": [
    "def mysql_connect():\n",
    "    return pymysql.connect(host='localhost', port=3306, user='user', password='pass123', db='uol')"
   ]
  },
  {
   "cell_type": "code",
   "execution_count": 24,
   "metadata": {},
   "outputs": [],
   "source": [
    "sql = 'SELECT * FROM registration'\n",
    "df = pd.read_sql(sql, con=mysql_connect())"
   ]
  },
  {
   "cell_type": "code",
   "execution_count": 25,
   "metadata": {},
   "outputs": [
    {
     "data": {
      "text/html": [
       "<div>\n",
       "<style scoped>\n",
       "    .dataframe tbody tr th:only-of-type {\n",
       "        vertical-align: middle;\n",
       "    }\n",
       "\n",
       "    .dataframe tbody tr th {\n",
       "        vertical-align: top;\n",
       "    }\n",
       "\n",
       "    .dataframe thead th {\n",
       "        text-align: right;\n",
       "    }\n",
       "</style>\n",
       "<table border=\"1\" class=\"dataframe\">\n",
       "  <thead>\n",
       "    <tr style=\"text-align: right;\">\n",
       "      <th></th>\n",
       "      <th>registration_id</th>\n",
       "      <th>registration_email</th>\n",
       "      <th>registration_password</th>\n",
       "      <th>registration_name</th>\n",
       "      <th>registration_cellphone</th>\n",
       "      <th>registration_user_agent</th>\n",
       "      <th>registration_name_browser</th>\n",
       "      <th>registration_version_browser</th>\n",
       "      <th>registration_system</th>\n",
       "      <th>registration_gpu_model</th>\n",
       "      <th>registration_ip</th>\n",
       "    </tr>\n",
       "  </thead>\n",
       "  <tbody>\n",
       "    <tr>\n",
       "      <th>0</th>\n",
       "      <td>1</td>\n",
       "      <td>teste5@teste.com</td>\n",
       "      <td>teste</td>\n",
       "      <td>teste</td>\n",
       "      <td>12999999999</td>\n",
       "      <td>user_agent2</td>\n",
       "      <td>nameBrowser</td>\n",
       "      <td>versionBrowser</td>\n",
       "      <td>system</td>\n",
       "      <td>gpuModel</td>\n",
       "      <td>ip</td>\n",
       "    </tr>\n",
       "  </tbody>\n",
       "</table>\n",
       "</div>"
      ],
      "text/plain": [
       "   registration_id registration_email registration_password registration_name  \\\n",
       "0                1   teste5@teste.com                 teste             teste   \n",
       "\n",
       "  registration_cellphone registration_user_agent registration_name_browser  \\\n",
       "0            12999999999             user_agent2               nameBrowser   \n",
       "\n",
       "  registration_version_browser registration_system registration_gpu_model  \\\n",
       "0               versionBrowser              system               gpuModel   \n",
       "\n",
       "  registration_ip  \n",
       "0              ip  "
      ]
     },
     "execution_count": 25,
     "metadata": {},
     "output_type": "execute_result"
    }
   ],
   "source": [
    "df.head(3)"
   ]
  }
 ],
 "metadata": {
  "interpreter": {
   "hash": "8b8334dab9339717f727a1deaf837b322d7a41c20d15cc86be99a8e69ceec8ce"
  },
  "kernelspec": {
   "display_name": "Python 3.8.12 64-bit ('3.8.12': pyenv)",
   "name": "python3"
  },
  "language_info": {
   "codemirror_mode": {
    "name": "ipython",
    "version": 3
   },
   "file_extension": ".py",
   "mimetype": "text/x-python",
   "name": "python",
   "nbconvert_exporter": "python",
   "pygments_lexer": "ipython3",
   "version": "3.8.12"
  },
  "orig_nbformat": 4
 },
 "nbformat": 4,
 "nbformat_minor": 2
}
