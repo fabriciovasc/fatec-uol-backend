{
 "cells": [
  {
   "cell_type": "code",
   "execution_count": 184,
   "metadata": {},
   "outputs": [],
   "source": [
    "import pymysql\n",
    "import pandas as pd\n",
    "from pyspark.sql import SparkSession\n",
    "from pyspark.sql.functions import col, struct"
   ]
  },
  {
   "cell_type": "code",
   "execution_count": 185,
   "metadata": {},
   "outputs": [],
   "source": [
    "def mysql_connect():\n",
    "    return pymysql.connect(host='localhost', port=3306, user='user', password='pass123', db='uol')\n",
    "sql = 'SELECT * FROM registration'"
   ]
  },
  {
   "cell_type": "code",
   "execution_count": 186,
   "metadata": {},
   "outputs": [],
   "source": [
    "# Get pdf from pandas\n",
    "pdf = pd.read_sql(sql, con=mysql_connect())"
   ]
  },
  {
   "cell_type": "code",
   "execution_count": 187,
   "metadata": {},
   "outputs": [],
   "source": [
    "# Create data frame from pdf with spark\n",
    "spark = SparkSession.builder.appName('singleUserService').getOrCreate()\n",
    "df = spark.createDataFrame(pdf)"
   ]
  },
  {
   "cell_type": "code",
   "execution_count": 188,
   "metadata": {},
   "outputs": [
    {
     "name": "stdout",
     "output_type": "stream",
     "text": [
      "+---------------+---------------+----+----+----+----+------------------+\n",
      "|registration_id|registration_ip|   1|   2|   3|   4|      count_struct|\n",
      "+---------------+---------------+----+----+----+----+------------------+\n",
      "|              1|  187.95.19.235|   1|null|null|null|{187.95.19.235, 1}|\n",
      "|              2|  187.95.19.235|null|   1|null|null|{187.95.19.235, 2}|\n",
      "|              3|  187.95.19.235|null|null|   1|null|{187.95.19.235, 3}|\n",
      "|              4|  187.95.19.235|null|null|null|   1|{187.95.19.235, 4}|\n",
      "+---------------+---------------+----+----+----+----+------------------+\n",
      "\n"
     ]
    }
   ],
   "source": [
    "df.groupBy('registration_id', 'registration_ip').pivot('registration_id').agg({'*': 'count'}).withColumn('count_struct', struct('registration_ip', 'registration_id')).show()"
   ]
  }
 ],
 "metadata": {
  "interpreter": {
   "hash": "8b8334dab9339717f727a1deaf837b322d7a41c20d15cc86be99a8e69ceec8ce"
  },
  "kernelspec": {
   "display_name": "Python 3.8.12 64-bit ('3.8.12': pyenv)",
   "name": "python3"
  },
  "language_info": {
   "codemirror_mode": {
    "name": "ipython",
    "version": 3
   },
   "file_extension": ".py",
   "mimetype": "text/x-python",
   "name": "python",
   "nbconvert_exporter": "python",
   "pygments_lexer": "ipython3",
   "version": "3.8.12"
  },
  "orig_nbformat": 4
 },
 "nbformat": 4,
 "nbformat_minor": 2
}
